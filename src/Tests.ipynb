{
 "cells": [
  {
   "cell_type": "code",
   "execution_count": 5,
   "metadata": {},
   "outputs": [
    {
     "ename": "ImportError",
     "evalue": "attempted relative import with no known parent package",
     "output_type": "error",
     "traceback": [
      "\u001b[0;31m---------------------------------------------------------------------------\u001b[0m",
      "\u001b[0;31mImportError\u001b[0m                               Traceback (most recent call last)",
      "Cell \u001b[0;32mIn[5], line 1\u001b[0m\n\u001b[0;32m----> 1\u001b[0m \u001b[38;5;28;01mfrom\u001b[39;00m \u001b[38;5;21;01m.\u001b[39;00m\u001b[38;5;21;01mparser\u001b[39;00m \u001b[38;5;28;01mimport\u001b[39;00m \u001b[38;5;241m*\u001b[39m\n",
      "\u001b[0;31mImportError\u001b[0m: attempted relative import with no known parent package"
     ]
    }
   ],
   "source": [
    "from selenium import webdriver\n",
    "from selenium.webdriver.chrome.options import Options\n",
    "from bs4 import BeautifulSoup\n",
    "\n",
    "\n",
    "def get_html_from_url(url):\n",
    "    # Set up Chrome options\n",
    "    chrome_options = Options()\n",
    "    chrome_options.binary_location = (\n",
    "        '/Applications/Google Chrome.app/Contents/MacOS/Google Chrome'\n",
    "    )\n",
    "\n",
    "    # Initialize a Chrome webdriver\n",
    "    driver = webdriver.Chrome(\n",
    "        executable_path='/Users/lizhicq/Applications/Drivers/chromedriver', \n",
    "        options=chrome_options\n",
    "    )\n",
    "    # Load the page\n",
    "    driver.get(url)\n",
    "\n",
    "    # Get the source HTML of the page\n",
    "    html = driver.page_source\n",
    "\n",
    "    # Close the browser\n",
    "    driver.quit()\n",
    "\n",
    "    return html\n",
    "\n",
    "def get_novel_content(content_url):\n",
    "    # Replace 'html_content' with your actual HTML content string\n",
    "    html_content = get_html_from_url(content_url)\n",
    "\n",
    "    # Using BeautifulSoup to parse the HTML content\n",
    "    soup = BeautifulSoup(html_content, 'html.parser')\n",
    "\n",
    "    # Finding all <a> tags within <li> tags\n",
    "    chapter_list = soup.find_all('li')\n",
    "\n",
    "    # Extracting chapter names and URLs\n",
    "    chapters = []\n",
    "    for chapter in chapter_list:\n",
    "        link = chapter.find('a')\n",
    "        if link and 'href' in link.attrs:\n",
    "            chapter_url = content_url + \"/\" + link['href'].strip()\n",
    "            chapters.append({'chapter': link.text.strip(), 'url': chapter_url})\n",
    "\n",
    "    return chapters\n",
    "\n",
    "\n",
    "def extract_novel_chapter(chapter_url):\n",
    "    chapter_html = get_html_from_url(chapter_url)\n",
    "    # 使用 BeautifulSoup 解析 HTML\n",
    "    soup = BeautifulSoup(chapter_html, 'html.parser')\n",
    "    \n",
    "    # 寻找包含小说内容的标签\n",
    "    content_div = soup.find('div', id='content')\n",
    "    # 移除不需要的子元素，如链接等\n",
    "    for element in content_div.find_all(['a', 'script', 'table', 'div']):\n",
    "        element.decompose()\n",
    "\n",
    "    # 打印清理后的文本\n",
    "    clean_text = content_div.get_text()\n",
    "    return clean_text\n"
   ]
  }
 ],
 "metadata": {
  "kernelspec": {
   "display_name": "vscode",
   "language": "python",
   "name": "python3"
  },
  "language_info": {
   "codemirror_mode": {
    "name": "ipython",
    "version": 3
   },
   "file_extension": ".py",
   "mimetype": "text/x-python",
   "name": "python",
   "nbconvert_exporter": "python",
   "pygments_lexer": "ipython3",
   "version": "3.11.5"
  }
 },
 "nbformat": 4,
 "nbformat_minor": 2
}
